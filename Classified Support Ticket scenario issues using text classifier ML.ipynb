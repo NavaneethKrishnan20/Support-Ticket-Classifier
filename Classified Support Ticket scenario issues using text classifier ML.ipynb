{
 "cells": [
  {
   "cell_type": "markdown",
   "metadata": {},
   "source": [
    "# Classified Support Ticket scenario issues using text classifier(Naive bayes) in Machine Learning"
   ]
  },
  {
   "cell_type": "markdown",
   "metadata": {},
   "source": [
    "## Import Libraries"
   ]
  },
  {
   "cell_type": "code",
   "execution_count": 1,
   "metadata": {},
   "outputs": [],
   "source": [
    "import pandas as pd\n",
    "import numpy as np\n",
    "import matplotlib.pyplot as plt"
   ]
  },
  {
   "cell_type": "markdown",
   "metadata": {},
   "source": [
    "## Load Data"
   ]
  },
  {
   "cell_type": "code",
   "execution_count": 2,
   "metadata": {
    "scrolled": true
   },
   "outputs": [
    {
     "data": {
      "text/html": [
       "<div>\n",
       "<style scoped>\n",
       "    .dataframe tbody tr th:only-of-type {\n",
       "        vertical-align: middle;\n",
       "    }\n",
       "\n",
       "    .dataframe tbody tr th {\n",
       "        vertical-align: top;\n",
       "    }\n",
       "\n",
       "    .dataframe thead th {\n",
       "        text-align: right;\n",
       "    }\n",
       "</style>\n",
       "<table border=\"1\" class=\"dataframe\">\n",
       "  <thead>\n",
       "    <tr style=\"text-align: right;\">\n",
       "      <th></th>\n",
       "      <th>Category</th>\n",
       "      <th>Short_des</th>\n",
       "    </tr>\n",
       "  </thead>\n",
       "  <tbody>\n",
       "    <tr>\n",
       "      <th>0</th>\n",
       "      <td>Enquiry</td>\n",
       "      <td>How to Purchase MS items</td>\n",
       "    </tr>\n",
       "    <tr>\n",
       "      <th>1</th>\n",
       "      <td>Enquiry</td>\n",
       "      <td>Issue with Xbox subscription</td>\n",
       "    </tr>\n",
       "    <tr>\n",
       "      <th>2</th>\n",
       "      <td>Network</td>\n",
       "      <td>Issue with wifi</td>\n",
       "    </tr>\n",
       "    <tr>\n",
       "      <th>3</th>\n",
       "      <td>Enquiry</td>\n",
       "      <td>Not receiving emails</td>\n",
       "    </tr>\n",
       "    <tr>\n",
       "      <th>4</th>\n",
       "      <td>Hardware</td>\n",
       "      <td>Issue with harddrive</td>\n",
       "    </tr>\n",
       "    <tr>\n",
       "      <th>...</th>\n",
       "      <td>...</td>\n",
       "      <td>...</td>\n",
       "    </tr>\n",
       "    <tr>\n",
       "      <th>64</th>\n",
       "      <td>Enquiry</td>\n",
       "      <td>how long will it take to install updates</td>\n",
       "    </tr>\n",
       "    <tr>\n",
       "      <th>65</th>\n",
       "      <td>Office</td>\n",
       "      <td>configuration issue with outlook</td>\n",
       "    </tr>\n",
       "    <tr>\n",
       "      <th>66</th>\n",
       "      <td>Scam</td>\n",
       "      <td>Illeageal transactions</td>\n",
       "    </tr>\n",
       "    <tr>\n",
       "      <th>67</th>\n",
       "      <td>Account</td>\n",
       "      <td>delete my microsoft account permentaly</td>\n",
       "    </tr>\n",
       "    <tr>\n",
       "      <th>68</th>\n",
       "      <td>Enquiry</td>\n",
       "      <td>How safe is my account</td>\n",
       "    </tr>\n",
       "  </tbody>\n",
       "</table>\n",
       "<p>69 rows × 2 columns</p>\n",
       "</div>"
      ],
      "text/plain": [
       "    Category                                  Short_des\n",
       "0    Enquiry                   How to Purchase MS items\n",
       "1    Enquiry               Issue with Xbox subscription\n",
       "2    Network                            Issue with wifi\n",
       "3    Enquiry                       Not receiving emails\n",
       "4   Hardware                      Issue with harddrive \n",
       "..       ...                                        ...\n",
       "64   Enquiry  how long will it take to install updates \n",
       "65    Office           configuration issue with outlook\n",
       "66      Scam                     Illeageal transactions\n",
       "67   Account    delete my microsoft account permentaly \n",
       "68   Enquiry                     How safe is my account\n",
       "\n",
       "[69 rows x 2 columns]"
      ]
     },
     "execution_count": 2,
     "metadata": {},
     "output_type": "execute_result"
    }
   ],
   "source": [
    "df=pd.read_excel(\"Tickets.xlsx\")\n",
    "df"
   ]
  },
  {
   "cell_type": "code",
   "execution_count": 3,
   "metadata": {
    "scrolled": true
   },
   "outputs": [
    {
     "data": {
      "text/plain": [
       "Enquiry     13\n",
       "Account     11\n",
       "Scam         9\n",
       "Network      8\n",
       "Software     8\n",
       "Hardware     7\n",
       "Office       6\n",
       "Update       4\n",
       "Xbox         3\n",
       "Name: Category, dtype: int64"
      ]
     },
     "execution_count": 3,
     "metadata": {},
     "output_type": "execute_result"
    }
   ],
   "source": [
    "a=df['Category'].value_counts()  # Unbalanced data set will lead to biased decision\n",
    "a"
   ]
  },
  {
   "cell_type": "code",
   "execution_count": 4,
   "metadata": {},
   "outputs": [
    {
     "data": {
      "text/plain": [
       "<matplotlib.axes._subplots.AxesSubplot at 0x193ed9020d0>"
      ]
     },
     "execution_count": 4,
     "metadata": {},
     "output_type": "execute_result"
    },
    {
     "data": {
      "image/png": "[encoded data removed]",
      "text/plain": [
       "<Figure size 432x288 with 1 Axes>"
      ]
     },
     "metadata": {
      "needs_background": "light"
     },
     "output_type": "display_data"
    }
   ],
   "source": [
    "a.plot(kind='bar')"
   ]
  },
  {
   "cell_type": "markdown",
   "metadata": {},
   "source": [
    "## Blancing the unbalanced data set by Random over-sampling "
   ]
  },
  {
   "cell_type": "code",
   "execution_count": 5,
   "metadata": {},
   "outputs": [],
   "source": [
    "xbox =df['Category'] == \"Xbox\"\n",
    "df_try = df[xbox]\n",
    "df=df.append([df_try]*4,ignore_index=True)"
   ]
  },
  {
   "cell_type": "code",
   "execution_count": 6,
   "metadata": {},
   "outputs": [],
   "source": [
    "update =df['Category'] == \"Update\"\n",
    "df_try = df[update]\n",
    "df=df.append([df_try]*3,ignore_index=True)"
   ]
  },
  {
   "cell_type": "code",
   "execution_count": 7,
   "metadata": {},
   "outputs": [],
   "source": [
    "office =df['Category'] == \"Office\"\n",
    "df_try = df[office]\n",
    "df=df.append([df_try]*2,ignore_index=True)"
   ]
  },
  {
   "cell_type": "code",
   "execution_count": 8,
   "metadata": {},
   "outputs": [],
   "source": [
    "hardware=df['Category'] == \"Hardware\"\n",
    "df_try = df[hardware]\n",
    "df=df.append([df_try]*2,ignore_index=True)"
   ]
  },
  {
   "cell_type": "code",
   "execution_count": 9,
   "metadata": {},
   "outputs": [],
   "source": [
    "software=df['Category'] == \"Software\"\n",
    "df_try = df[software]\n",
    "df=df.append([df_try]*2,ignore_index=True)"
   ]
  },
  {
   "cell_type": "code",
   "execution_count": 10,
   "metadata": {},
   "outputs": [],
   "source": [
    "network=df['Category'] == \"Network\"\n",
    "df_try = df[network]\n",
    "df=df.append([df_try]*2,ignore_index=True)"
   ]
  },
  {
   "cell_type": "code",
   "execution_count": 11,
   "metadata": {},
   "outputs": [],
   "source": [
    "scam=df['Category'] == \"Scam\"\n",
    "df_try = df[scam]\n",
    "df=df.append([df_try]*1,ignore_index=True)"
   ]
  },
  {
   "cell_type": "code",
   "execution_count": 12,
   "metadata": {},
   "outputs": [],
   "source": [
    "account=df['Category'] == \"Account\"\n",
    "df_try = df[account]\n",
    "df=df.append([df_try]*1,ignore_index=True)"
   ]
  },
  {
   "cell_type": "code",
   "execution_count": 13,
   "metadata": {},
   "outputs": [
    {
     "data": {
      "text/plain": [
       "Network     24\n",
       "Software    24\n",
       "Account     22\n",
       "Hardware    21\n",
       "Scam        18\n",
       "Office      18\n",
       "Update      16\n",
       "Xbox        15\n",
       "Enquiry     13\n",
       "Name: Category, dtype: int64"
      ]
     },
     "execution_count": 13,
     "metadata": {},
     "output_type": "execute_result"
    }
   ],
   "source": [
    "df['Category'].value_counts() # Balanced data set"
   ]
  },
  {
   "cell_type": "markdown",
   "metadata": {},
   "source": [
    "## Creating input and output variables for train & test"
   ]
  },
  {
   "cell_type": "code",
   "execution_count": 14,
   "metadata": {},
   "outputs": [],
   "source": [
    "X=df['Short_des']  # input variable\n",
    "y=df['Category']   # output variable"
   ]
  },
  {
   "cell_type": "markdown",
   "metadata": {},
   "source": [
    "## Create train and test split"
   ]
  },
  {
   "cell_type": "code",
   "execution_count": 15,
   "metadata": {},
   "outputs": [
    {
     "data": {
      "text/plain": [
       "(136,)"
      ]
     },
     "execution_count": 15,
     "metadata": {},
     "output_type": "execute_result"
    }
   ],
   "source": [
    "from sklearn.model_selection import train_test_split\n",
    "X_train, X_test, y_train, y_test = train_test_split(X,y,test_size=0.20,random_state=135)\n",
    "X_train.shape"
   ]
  },
  {
   "cell_type": "markdown",
   "metadata": {},
   "source": [
    "## Count vertorizer - Convert a collection of text documents to a martix of token counts"
   ]
  },
  {
   "cell_type": "code",
   "execution_count": 16,
   "metadata": {},
   "outputs": [],
   "source": [
    "from sklearn.feature_extraction.text import CountVectorizer\n",
    "#count_vect= CountVectorizer()\n",
    "#X_train_counts= count_vect.fit_transform(X_train)"
   ]
  },
  {
   "cell_type": "code",
   "execution_count": 17,
   "metadata": {},
   "outputs": [],
   "source": [
    "#X_train_counts.toarray()"
   ]
  },
  {
   "cell_type": "code",
   "execution_count": 18,
   "metadata": {},
   "outputs": [],
   "source": [
    "#X_train_counts.shape"
   ]
  },
  {
   "cell_type": "markdown",
   "metadata": {},
   "source": [
    "## Tfidf- Term-frequency inverse document frequency \n",
    "#### Term frequency (TF)measures how frequently a term occurs in document\n",
    "#### inverse document frequency(IDF) which measures how important a term is"
   ]
  },
  {
   "cell_type": "code",
   "execution_count": 30,
   "metadata": {},
   "outputs": [],
   "source": [
    "from sklearn.feature_extraction.text import TfidfTransformer\n",
    "#tfidf_transformer=TfidfTransformer()\n",
    "#X_train_tfidf= tfidf_transformer.fit_transform(X_train_counts)\n",
    "#X_train_tfidf.shape"
   ]
  },
  {
   "cell_type": "markdown",
   "metadata": {},
   "source": [
    "## Naive bayes Classifier "
   ]
  },
  {
   "cell_type": "code",
   "execution_count": 20,
   "metadata": {},
   "outputs": [],
   "source": [
    "from sklearn.naive_bayes import MultinomialNB\n",
    "#clf = MultinomialNB().fit(X_train_tfidf,y_train)"
   ]
  },
  {
   "cell_type": "markdown",
   "metadata": {},
   "source": [
    "## Pipeline Model"
   ]
  },
  {
   "cell_type": "code",
   "execution_count": 21,
   "metadata": {},
   "outputs": [],
   "source": [
    "from sklearn.pipeline import Pipeline\n",
    "text_clf= Pipeline([('vect',CountVectorizer()),('tfidf',TfidfTransformer()),('clf',MultinomialNB())])\n",
    "text_clf= text_clf.fit(X_train,y_train)"
   ]
  },
  {
   "cell_type": "markdown",
   "metadata": {},
   "source": [
    "## Score ( Measures the accuracy of the model against the training data)"
   ]
  },
  {
   "cell_type": "code",
   "execution_count": 22,
   "metadata": {},
   "outputs": [
    {
     "data": {
      "text/plain": [
       "0.9428571428571428"
      ]
     },
     "execution_count": 22,
     "metadata": {},
     "output_type": "execute_result"
    }
   ],
   "source": [
    "pred = text_clf.predict(X_test)\n",
    "text_clf.score(X_test,y_test)"
   ]
  },
  {
   "cell_type": "code",
   "execution_count": 23,
   "metadata": {},
   "outputs": [
    {
     "data": {
      "text/plain": [
       "array(['Hardware', 'Software', 'Software', 'Software', 'Network',\n",
       "       'Account', 'Network', 'Scam', 'Hardware', 'Scam', 'Software',\n",
       "       'Enquiry', 'Software', 'Scam', 'Hardware', 'Update', 'Network',\n",
       "       'Scam', 'Office', 'Account', 'Update', 'Xbox', 'Network', 'Office',\n",
       "       'Enquiry', 'Network', 'Update', 'Update', 'Account', 'Hardware',\n",
       "       'Account', 'Account', 'Office', 'Xbox', 'Account'], dtype='<U8')"
      ]
     },
     "execution_count": 23,
     "metadata": {},
     "output_type": "execute_result"
    }
   ],
   "source": [
    "pred"
   ]
  },
  {
   "cell_type": "code",
   "execution_count": 24,
   "metadata": {},
   "outputs": [
    {
     "data": {
      "text/plain": [
       "66               Illeageal transactions\n",
       "113           Mouse sensor not working \n",
       "161                      MSA is blocked\n",
       "76                  Gaming server issue\n",
       "104    configuration issue with outlook\n",
       "                     ...               \n",
       "12      What is the price of windows 10\n",
       "62             Unable to sync one note \n",
       "22                  How to set up Azure\n",
       "124                   Apps gets crashed\n",
       "159              Illeageal transactions\n",
       "Name: Short_des, Length: 136, dtype: object"
      ]
     },
     "execution_count": 24,
     "metadata": {},
     "output_type": "execute_result"
    }
   ],
   "source": [
    "X_train"
   ]
  },
  {
   "cell_type": "code",
   "execution_count": 25,
   "metadata": {
    "scrolled": true
   },
   "outputs": [
    {
     "data": {
      "text/plain": [
       "66         Scam\n",
       "113    Hardware\n",
       "161     Account\n",
       "76         Xbox\n",
       "104      Office\n",
       "         ...   \n",
       "12      Enquiry\n",
       "62       Office\n",
       "22      Enquiry\n",
       "124    Software\n",
       "159        Scam\n",
       "Name: Category, Length: 136, dtype: object"
      ]
     },
     "execution_count": 25,
     "metadata": {},
     "output_type": "execute_result"
    }
   ],
   "source": [
    "y_train"
   ]
  },
  {
   "cell_type": "code",
   "execution_count": 26,
   "metadata": {},
   "outputs": [
    {
     "data": {
      "text/plain": [
       "109                          Graphic card failure\n",
       "155                              Theart and virus\n",
       "35                               Theart and virus\n",
       "130                Windows store is not updating \n",
       "138                Printer not showing on network\n",
       "60               microsoft account is been hacked\n",
       "37                         File sharing has error\n",
       "58                        Computer is compromised\n",
       "4                           Issue with harddrive \n",
       "26                       Remote access by scammer\n",
       "39                    Microsoft games shows error\n",
       "20                           How to take a backup\n",
       "128                             Blue screen error\n",
       "152                            Received scam call\n",
       "111                 Motherboard or hardware crash\n",
       "82                         Update is stuck at 36%\n",
       "149                         IP address is blocked\n",
       "156                                    Fake call \n",
       "32                      Unable to print from word\n",
       "52                                  MSA is hacked\n",
       "91                           No boot after update\n",
       "30                            Gaming server issue\n",
       "140             Scanner not communicating with PC\n",
       "97                       Unable to sync one note \n",
       "15                                Price of Office\n",
       "136                              Files wont share\n",
       "86                         Update is stuck at 36%\n",
       "90                         Update is stuck at 36%\n",
       "61     couldn't verify your phone number or email\n",
       "118                 Motherboard or hardware crash\n",
       "162                        Account is compromised\n",
       "170       delete my microsoft account permentaly \n",
       "46               Server not responding on outlook\n",
       "78               Unable to connect to Xbox server\n",
       "19                         Account is compromised\n",
       "Name: Short_des, dtype: object"
      ]
     },
     "execution_count": 26,
     "metadata": {},
     "output_type": "execute_result"
    }
   ],
   "source": [
    "X_test"
   ]
  },
  {
   "cell_type": "code",
   "execution_count": 27,
   "metadata": {},
   "outputs": [
    {
     "data": {
      "text/plain": [
       "109    Hardware\n",
       "155        Scam\n",
       "35         Scam\n",
       "130    Software\n",
       "138     Network\n",
       "60      Account\n",
       "37      Network\n",
       "58         Scam\n",
       "4      Hardware\n",
       "26         Scam\n",
       "39     Software\n",
       "20      Enquiry\n",
       "128    Software\n",
       "152        Scam\n",
       "111    Hardware\n",
       "82       Update\n",
       "149     Network\n",
       "156        Scam\n",
       "32       Office\n",
       "52      Account\n",
       "91       Update\n",
       "30         Xbox\n",
       "140     Network\n",
       "97       Office\n",
       "15      Enquiry\n",
       "136     Network\n",
       "86       Update\n",
       "90       Update\n",
       "61      Account\n",
       "118    Hardware\n",
       "162     Account\n",
       "170     Account\n",
       "46       Office\n",
       "78         Xbox\n",
       "19      Account\n",
       "Name: Category, dtype: object"
      ]
     },
     "execution_count": 27,
     "metadata": {},
     "output_type": "execute_result"
    }
   ],
   "source": [
    "y_test"
   ]
  },
  {
   "cell_type": "markdown",
   "metadata": {},
   "source": [
    "## Predicting Output "
   ]
  },
  {
   "cell_type": "code",
   "execution_count": 29,
   "metadata": {},
   "outputs": [
    {
     "data": {
      "text/plain": [
       "array(['Network'], dtype='<U8')"
      ]
     },
     "execution_count": 29,
     "metadata": {},
     "output_type": "execute_result"
    }
   ],
   "source": [
    "pred = text_clf.predict(['IP address is blocked'])\n",
    "pred"
   ]
  },
  {
   "cell_type": "code",
   "execution_count": null,
   "metadata": {},
   "outputs": [],
   "source": []
  }
 ],
 "metadata": {
  "kernelspec": {
   "display_name": "Python 3",
   "language": "python",
   "name": "python3"
  },
  "language_info": {
   "codemirror_mode": {
    "name": "ipython",
    "version": 3
   },
   "file_extension": ".py",
   "mimetype": "text/x-python",
   "name": "python",
   "nbconvert_exporter": "python",
   "pygments_lexer": "ipython3",
   "version": "3.8.3"
  }
 },
 "nbformat": 4,
 "nbformat_minor": 4
}
